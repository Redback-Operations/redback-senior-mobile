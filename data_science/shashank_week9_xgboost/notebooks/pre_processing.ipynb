{
  "cells": [
    {
      "cell_type": "code",
      "execution_count": 1,
      "metadata": {
        "colab": {
          "base_uri": "https://localhost:8080/"
        },
        "id": "rUGML3Px2GYN",
        "outputId": "32835967-5b36-4d8e-f75b-0eff5fd3b141"
      },
      "outputs": [
        {
          "name": "stdout",
          "output_type": "stream",
          "text": [
            "Collecting ucimlrepo\n",
            "  Downloading ucimlrepo-0.0.7-py3-none-any.whl.metadata (5.5 kB)\n",
            "Requirement already satisfied: pandas>=1.0.0 in c:\\users\\user\\anaconda3\\lib\\site-packages (from ucimlrepo) (2.2.3)\n",
            "Requirement already satisfied: certifi>=2020.12.5 in c:\\users\\user\\anaconda3\\lib\\site-packages (from ucimlrepo) (2025.7.14)\n",
            "Requirement already satisfied: numpy>=1.26.0 in c:\\users\\user\\anaconda3\\lib\\site-packages (from pandas>=1.0.0->ucimlrepo) (2.1.3)\n",
            "Requirement already satisfied: python-dateutil>=2.8.2 in c:\\users\\user\\anaconda3\\lib\\site-packages (from pandas>=1.0.0->ucimlrepo) (2.9.0.post0)\n",
            "Requirement already satisfied: pytz>=2020.1 in c:\\users\\user\\anaconda3\\lib\\site-packages (from pandas>=1.0.0->ucimlrepo) (2024.1)\n",
            "Requirement already satisfied: tzdata>=2022.7 in c:\\users\\user\\anaconda3\\lib\\site-packages (from pandas>=1.0.0->ucimlrepo) (2025.2)\n",
            "Requirement already satisfied: six>=1.5 in c:\\users\\user\\anaconda3\\lib\\site-packages (from python-dateutil>=2.8.2->pandas>=1.0.0->ucimlrepo) (1.17.0)\n",
            "Downloading ucimlrepo-0.0.7-py3-none-any.whl (8.0 kB)\n",
            "Installing collected packages: ucimlrepo\n",
            "Successfully installed ucimlrepo-0.0.7\n",
            "Note: you may need to restart the kernel to use updated packages.\n"
          ]
        }
      ],
      "source": [
        "pip install ucimlrepo"
      ]
    },
    {
      "cell_type": "code",
      "execution_count": 3,
      "metadata": {
        "colab": {
          "base_uri": "https://localhost:8080/"
        },
        "id": "RDdnY04h5xpK",
        "outputId": "98be51ad-02dc-48b0-da14-1f8f3a6f8386"
      },
      "outputs": [
        {
          "name": "stdout",
          "output_type": "stream",
          "text": [
            "{'uci_id': 544, 'name': 'Estimation of Obesity Levels Based On Eating Habits and Physical Condition ', 'repository_url': 'https://archive.ics.uci.edu/dataset/544/estimation+of+obesity+levels+based+on+eating+habits+and+physical+condition', 'data_url': 'https://archive.ics.uci.edu/static/public/544/data.csv', 'abstract': 'This dataset include data for the estimation of obesity levels in individuals from the countries of Mexico, Peru and Colombia, based on their eating habits and physical condition. ', 'area': 'Health and Medicine', 'tasks': ['Classification', 'Regression', 'Clustering'], 'characteristics': ['Multivariate'], 'num_instances': 2111, 'num_features': 16, 'feature_types': ['Integer'], 'demographics': ['Gender', 'Age'], 'target_col': ['NObeyesdad'], 'index_col': None, 'has_missing_values': 'no', 'missing_values_symbol': None, 'year_of_dataset_creation': 2019, 'last_updated': 'Tue Sep 10 2024', 'dataset_doi': '10.24432/C5H31Z', 'creators': [], 'intro_paper': {'ID': 358, 'type': 'NATIVE', 'title': 'Dataset for estimation of obesity levels based on eating habits and physical condition in individuals from Colombia, Peru and Mexico', 'authors': 'Fabio Mendoza Palechor, Alexis De la Hoz Manotas', 'venue': 'Data in Brief', 'year': 2019, 'journal': None, 'DOI': '10.1016/j.dib.2019.104344', 'URL': 'https://www.semanticscholar.org/paper/35b40bacd2ffa9370885b7a3004d88995fd1d011', 'sha': None, 'corpus': None, 'arxiv': None, 'mag': None, 'acl': None, 'pmid': None, 'pmcid': None}, 'additional_info': {'summary': 'This dataset include data for the estimation of obesity levels in individuals from the countries of Mexico, Peru and Colombia, based on their eating habits and physical condition. The data contains 17 attributes and 2111 records, the records are labeled with the class variable NObesity (Obesity Level), that allows classification of the data using the values of Insufficient Weight, Normal Weight, Overweight Level I, Overweight Level II, Obesity Type I, Obesity Type II and Obesity Type III. 77% of the data was generated synthetically using the Weka tool and the SMOTE filter, 23% of the data was collected directly from users through a web platform.', 'purpose': None, 'funded_by': None, 'instances_represent': None, 'recommended_data_splits': None, 'sensitive_data': None, 'preprocessing_description': None, 'variable_info': 'Read the article (https://doi.org/10.1016/j.dib.2019.104344) to see the description of the attributes.', 'citation': None}}\n",
            "                              name     role         type demographic  \\\n",
            "0                           Gender  Feature  Categorical      Gender   \n",
            "1                              Age  Feature   Continuous         Age   \n",
            "2                           Height  Feature   Continuous        None   \n",
            "3                           Weight  Feature   Continuous        None   \n",
            "4   family_history_with_overweight  Feature       Binary        None   \n",
            "5                             FAVC  Feature       Binary        None   \n",
            "6                             FCVC  Feature      Integer        None   \n",
            "7                              NCP  Feature   Continuous        None   \n",
            "8                             CAEC  Feature  Categorical        None   \n",
            "9                            SMOKE  Feature       Binary        None   \n",
            "10                            CH2O  Feature   Continuous        None   \n",
            "11                             SCC  Feature       Binary        None   \n",
            "12                             FAF  Feature   Continuous        None   \n",
            "13                             TUE  Feature      Integer        None   \n",
            "14                            CALC  Feature  Categorical        None   \n",
            "15                          MTRANS  Feature  Categorical        None   \n",
            "16                      NObeyesdad   Target  Categorical        None   \n",
            "\n",
            "                                          description units missing_values  \n",
            "0                                                None  None             no  \n",
            "1                                                None  None             no  \n",
            "2                                                None  None             no  \n",
            "3                                                None  None             no  \n",
            "4   Has a family member suffered or suffers from o...  None             no  \n",
            "5            Do you eat high caloric food frequently?  None             no  \n",
            "6        Do you usually eat vegetables in your meals?  None             no  \n",
            "7              How many main meals do you have daily?  None             no  \n",
            "8                  Do you eat any food between meals?  None             no  \n",
            "9                                       Do you smoke?  None             no  \n",
            "10                 How much water do you drink daily?  None             no  \n",
            "11         Do you monitor the calories you eat daily?  None             no  \n",
            "12           How often do you have physical activity?  None             no  \n",
            "13  How much time do you use technological devices...  None             no  \n",
            "14                    How often do you drink alcohol?  None             no  \n",
            "15           Which transportation do you usually use?  None             no  \n",
            "16                                      Obesity level  None             no  \n"
          ]
        }
      ],
      "source": [
        "from ucimlrepo import fetch_ucirepo\n",
        "\n",
        "# fetch dataset\n",
        "estimation_of_obesity_levels_based_on_eating_habits_and_physical_condition = fetch_ucirepo(id=544)\n",
        "\n",
        "# data (as pandas dataframes)\n",
        "X = estimation_of_obesity_levels_based_on_eating_habits_and_physical_condition.data.features\n",
        "y = estimation_of_obesity_levels_based_on_eating_habits_and_physical_condition.data.targets\n",
        "\n",
        "# metadata\n",
        "print(estimation_of_obesity_levels_based_on_eating_habits_and_physical_condition.metadata)\n",
        "\n",
        "# variable information\n",
        "print(estimation_of_obesity_levels_based_on_eating_habits_and_physical_condition.variables)\n"
      ]
    },
    {
      "cell_type": "code",
      "execution_count": 4,
      "metadata": {
        "colab": {
          "base_uri": "https://localhost:8080/"
        },
        "id": "Ha3DtFGa5_i_",
        "outputId": "aa0f1c6b-5a86-4613-c19d-fc9063e6ef40"
      },
      "outputs": [
        {
          "name": "stdout",
          "output_type": "stream",
          "text": [
            "   Gender   Age  Height  Weight family_history_with_overweight FAVC  FCVC  \\\n",
            "0  Female  21.0    1.62    64.0                            yes   no   2.0   \n",
            "1  Female  21.0    1.52    56.0                            yes   no   3.0   \n",
            "2    Male  23.0    1.80    77.0                            yes   no   2.0   \n",
            "3    Male  27.0    1.80    87.0                             no   no   3.0   \n",
            "4    Male  22.0    1.78    89.8                             no   no   2.0   \n",
            "\n",
            "   NCP       CAEC SMOKE  CH2O  SCC  FAF  TUE        CALC  \\\n",
            "0  3.0  Sometimes    no   2.0   no  0.0  1.0          no   \n",
            "1  3.0  Sometimes   yes   3.0  yes  3.0  0.0   Sometimes   \n",
            "2  3.0  Sometimes    no   2.0   no  2.0  1.0  Frequently   \n",
            "3  3.0  Sometimes    no   2.0   no  2.0  0.0  Frequently   \n",
            "4  1.0  Sometimes    no   2.0   no  0.0  0.0   Sometimes   \n",
            "\n",
            "                  MTRANS           NObeyesdad  \n",
            "0  Public_Transportation        Normal_Weight  \n",
            "1  Public_Transportation        Normal_Weight  \n",
            "2  Public_Transportation        Normal_Weight  \n",
            "3                Walking   Overweight_Level_I  \n",
            "4  Public_Transportation  Overweight_Level_II  \n"
          ]
        }
      ],
      "source": [
        "import pandas as pd\n",
        "\n",
        "df1 = pd.concat([X, y], axis=1)\n",
        "print(df1.head())\n"
      ]
    },
    {
      "cell_type": "code",
      "execution_count": 5,
      "metadata": {
        "colab": {
          "base_uri": "https://localhost:8080/"
        },
        "id": "_jdNJMpS6viY",
        "outputId": "9e7d7790-a7b9-4503-f7e2-285fc3569de2"
      },
      "outputs": [
        {
          "name": "stdout",
          "output_type": "stream",
          "text": [
            "Youngest age: 14.0\n",
            "Oldest age: 61.0\n"
          ]
        }
      ],
      "source": [
        "print(\"Youngest age:\", X['Age'].min())\n",
        "print(\"Oldest age:\", X['Age'].max())"
      ]
    },
    {
      "cell_type": "code",
      "execution_count": 6,
      "metadata": {
        "colab": {
          "base_uri": "https://localhost:8080/"
        },
        "id": "yUAyOSSp6-I6",
        "outputId": "53eb8640-3d58-44a6-cccf-e3e665fd1c0f"
      },
      "outputs": [
        {
          "name": "stdout",
          "output_type": "stream",
          "text": [
            "Number of people under 18: 113\n"
          ]
        }
      ],
      "source": [
        "print(\"Number of people under 18:\", (X['Age'] < 18).sum())"
      ]
    },
    {
      "cell_type": "markdown",
      "metadata": {
        "id": "YOgUn_zgMN6G"
      },
      "source": [
        "***Importing Data set \"Obesity Risk Dataset\"***"
      ]
    },
    {
      "cell_type": "code",
      "execution_count": 7,
      "metadata": {
        "colab": {
          "base_uri": "https://localhost:8080/"
        },
        "id": "xbQfwedkL2SA",
        "outputId": "89f51e4a-377b-49c3-dafd-1ab8630761f6"
      },
      "outputs": [
        {
          "name": "stdout",
          "output_type": "stream",
          "text": [
            "Collecting kagglehub\n",
            "  Downloading kagglehub-0.3.13-py3-none-any.whl.metadata (38 kB)\n",
            "Requirement already satisfied: pandas in c:\\users\\user\\anaconda3\\lib\\site-packages (2.2.3)\n",
            "Requirement already satisfied: packaging in c:\\users\\user\\anaconda3\\lib\\site-packages (from kagglehub) (24.2)\n",
            "Requirement already satisfied: pyyaml in c:\\users\\user\\anaconda3\\lib\\site-packages (from kagglehub) (6.0.2)\n",
            "Requirement already satisfied: requests in c:\\users\\user\\anaconda3\\lib\\site-packages (from kagglehub) (2.32.3)\n",
            "Requirement already satisfied: tqdm in c:\\users\\user\\anaconda3\\lib\\site-packages (from kagglehub) (4.67.1)\n",
            "Requirement already satisfied: numpy>=1.26.0 in c:\\users\\user\\anaconda3\\lib\\site-packages (from pandas) (2.1.3)\n",
            "Requirement already satisfied: python-dateutil>=2.8.2 in c:\\users\\user\\anaconda3\\lib\\site-packages (from pandas) (2.9.0.post0)\n",
            "Requirement already satisfied: pytz>=2020.1 in c:\\users\\user\\anaconda3\\lib\\site-packages (from pandas) (2024.1)\n",
            "Requirement already satisfied: tzdata>=2022.7 in c:\\users\\user\\anaconda3\\lib\\site-packages (from pandas) (2025.2)\n",
            "Requirement already satisfied: six>=1.5 in c:\\users\\user\\anaconda3\\lib\\site-packages (from python-dateutil>=2.8.2->pandas) (1.17.0)\n",
            "Requirement already satisfied: charset-normalizer<4,>=2 in c:\\users\\user\\anaconda3\\lib\\site-packages (from requests->kagglehub) (3.3.2)\n",
            "Requirement already satisfied: idna<4,>=2.5 in c:\\users\\user\\anaconda3\\lib\\site-packages (from requests->kagglehub) (3.7)\n",
            "Requirement already satisfied: urllib3<3,>=1.21.1 in c:\\users\\user\\anaconda3\\lib\\site-packages (from requests->kagglehub) (2.3.0)\n",
            "Requirement already satisfied: certifi>=2017.4.17 in c:\\users\\user\\anaconda3\\lib\\site-packages (from requests->kagglehub) (2025.7.14)\n",
            "Requirement already satisfied: colorama in c:\\users\\user\\anaconda3\\lib\\site-packages (from tqdm->kagglehub) (0.4.6)\n",
            "Downloading kagglehub-0.3.13-py3-none-any.whl (68 kB)\n",
            "Installing collected packages: kagglehub\n",
            "Successfully installed kagglehub-0.3.13\n",
            "Note: you may need to restart the kernel to use updated packages.\n"
          ]
        }
      ],
      "source": [
        "pip install kagglehub pandas"
      ]
    },
    {
      "cell_type": "code",
      "execution_count": 8,
      "metadata": {
        "colab": {
          "base_uri": "https://localhost:8080/"
        },
        "id": "0Byr20YxL6mS",
        "outputId": "b790a46a-1ad9-4d0d-e1e5-6c367a37d022"
      },
      "outputs": [
        {
          "name": "stdout",
          "output_type": "stream",
          "text": [
            "Downloading from https://www.kaggle.com/api/v1/datasets/download/jpkochar/obesity-risk-dataset?dataset_version_number=1...\n"
          ]
        },
        {
          "name": "stderr",
          "output_type": "stream",
          "text": [
            "100%|██████████| 524k/524k [00:00<00:00, 1.62MB/s]"
          ]
        },
        {
          "name": "stdout",
          "output_type": "stream",
          "text": [
            "Extracting files...\n",
            "Dataset downloaded to: C:\\Users\\user\\.cache\\kagglehub\\datasets\\jpkochar\\obesity-risk-dataset\\versions\\1\n"
          ]
        },
        {
          "name": "stderr",
          "output_type": "stream",
          "text": [
            "\n"
          ]
        }
      ],
      "source": [
        "import kagglehub\n",
        "\n",
        "# Download latest version of the dataset\n",
        "path = kagglehub.dataset_download(\"jpkochar/obesity-risk-dataset\")\n",
        "\n",
        "print(\"Dataset downloaded to:\", path)\n"
      ]
    },
    {
      "cell_type": "code",
      "execution_count": 9,
      "metadata": {
        "colab": {
          "base_uri": "https://localhost:8080/"
        },
        "id": "3oJOwPmCMI8z",
        "outputId": "b504d5d0-2ba6-4f90-fc5e-0b5b655a42ab"
      },
      "outputs": [
        {
          "name": "stdout",
          "output_type": "stream",
          "text": [
            "First 5 rows:\n",
            "   id  Gender        Age    Height      Weight  \\\n",
            "0   0    Male  24.443011  1.699998   81.669950   \n",
            "1   1  Female  18.000000  1.560000   57.000000   \n",
            "2   2  Female  18.000000  1.711460   50.165754   \n",
            "3   3  Female  20.952737  1.710730  131.274851   \n",
            "4   4    Male  31.641081  1.914186   93.798055   \n",
            "\n",
            "   family_history_with_overweight  FAVC      FCVC       NCP        CAEC  \\\n",
            "0                               1     1  2.000000  2.983297   Sometimes   \n",
            "1                               1     1  2.000000  3.000000  Frequently   \n",
            "2                               1     1  1.880534  1.411685   Sometimes   \n",
            "3                               1     1  3.000000  3.000000   Sometimes   \n",
            "4                               1     1  2.679664  1.971472   Sometimes   \n",
            "\n",
            "   SMOKE      CH2O  SCC       FAF       TUE       CALC                 MTRANS  \\\n",
            "0      0  2.763573    0  0.000000  0.976473  Sometimes  Public_Transportation   \n",
            "1      0  2.000000    0  1.000000  1.000000          0             Automobile   \n",
            "2      0  1.910378    0  0.866045  1.673584          0  Public_Transportation   \n",
            "3      0  1.674061    0  1.467863  0.780199  Sometimes  Public_Transportation   \n",
            "4      0  1.979848    0  1.967973  0.931721  Sometimes  Public_Transportation   \n",
            "\n",
            "               0be1dad  \n",
            "0  Overweight_Level_II  \n",
            "1         0rmal_Weight  \n",
            "2  Insufficient_Weight  \n",
            "3     Obesity_Type_III  \n",
            "4  Overweight_Level_II  \n"
          ]
        }
      ],
      "source": [
        "import pandas as pd\n",
        "import os\n",
        "\n",
        "# Find the CSV file in the downloaded folder\n",
        "csv_files = [f for f in os.listdir(path) if f.endswith(\".csv\")]\n",
        "if not csv_files:\n",
        "    raise FileNotFoundError(\"No CSV file found in the dataset folder.\")\n",
        "\n",
        "csv_path = os.path.join(path, csv_files[0])\n",
        "\n",
        "# Load into pandas\n",
        "ObesityRiskDatasetdf = pd.read_csv(csv_path)\n",
        "\n",
        "print(\"First 5 rows:\")\n",
        "print(ObesityRiskDatasetdf.head())\n"
      ]
    },
    {
      "cell_type": "code",
      "execution_count": 11,
      "metadata": {
        "colab": {
          "base_uri": "https://localhost:8080/"
        },
        "id": "j_K_oqwrM5wk",
        "outputId": "51ed8a14-a97d-4f68-da71-9ba5444f15d3"
      },
      "outputs": [
        {
          "name": "stdout",
          "output_type": "stream",
          "text": [
            "First 5 rows:\n",
            "   id  Gender        Age    Height      Weight  \\\n",
            "0   0    Male  24.443011  1.699998   81.669950   \n",
            "1   1  Female  18.000000  1.560000   57.000000   \n",
            "2   2  Female  18.000000  1.711460   50.165754   \n",
            "3   3  Female  20.952737  1.710730  131.274851   \n",
            "4   4    Male  31.641081  1.914186   93.798055   \n",
            "\n",
            "   family_history_with_overweight  FAVC      FCVC       NCP        CAEC  \\\n",
            "0                               1     1  2.000000  2.983297   Sometimes   \n",
            "1                               1     1  2.000000  3.000000  Frequently   \n",
            "2                               1     1  1.880534  1.411685   Sometimes   \n",
            "3                               1     1  3.000000  3.000000   Sometimes   \n",
            "4                               1     1  2.679664  1.971472   Sometimes   \n",
            "\n",
            "   SMOKE      CH2O  SCC       FAF       TUE       CALC                 MTRANS  \\\n",
            "0      0  2.763573    0  0.000000  0.976473  Sometimes  Public_Transportation   \n",
            "1      0  2.000000    0  1.000000  1.000000          0             Automobile   \n",
            "2      0  1.910378    0  0.866045  1.673584          0  Public_Transportation   \n",
            "3      0  1.674061    0  1.467863  0.780199  Sometimes  Public_Transportation   \n",
            "4      0  1.979848    0  1.967973  0.931721  Sometimes  Public_Transportation   \n",
            "\n",
            "               0be1dad  \n",
            "0  Overweight_Level_II  \n",
            "1         0rmal_Weight  \n",
            "2  Insufficient_Weight  \n",
            "3     Obesity_Type_III  \n",
            "4  Overweight_Level_II  \n"
          ]
        }
      ],
      "source": [
        "df2 = pd.read_csv(csv_path)\n",
        "\n",
        "print(\"First 5 rows:\")\n",
        "print(df2.head())"
      ]
    },
    {
      "cell_type": "code",
      "execution_count": 12,
      "metadata": {
        "colab": {
          "base_uri": "https://localhost:8080/"
        },
        "id": "9DvxDRPGO3V-",
        "outputId": "3a122466-dd5b-42b1-f140-0aa12585aadc"
      },
      "outputs": [
        {
          "name": "stdout",
          "output_type": "stream",
          "text": [
            "Index(['id', 'Gender', 'Age', 'Height', 'Weight',\n",
            "       'family_history_with_overweight', 'FAVC', 'FCVC', 'NCP', 'CAEC',\n",
            "       'SMOKE', 'CH2O', 'SCC', 'FAF', 'TUE', 'CALC', 'MTRANS', '0be1dad'],\n",
            "      dtype='object')\n",
            "Youngest age: 14.0\n",
            "Oldest age: 61.0\n"
          ]
        }
      ],
      "source": [
        "# Check the exact column names first\n",
        "print(df2.columns)\n",
        "\n",
        "# Then:\n",
        "print(\"Youngest age:\", df2['Age'].min())\n",
        "print(\"Oldest age:\", df2['Age'].max())"
      ]
    },
    {
      "cell_type": "code",
      "execution_count": 13,
      "metadata": {
        "id": "3kTfAKSoPbk_"
      },
      "outputs": [],
      "source": [
        "df1.columns = df1.columns.str.strip().str.lower()\n",
        "df2.columns = df2.columns.str.strip().str.lower()\n",
        "\n",
        "df1_filtered = df1[(df1['age'] >= 14) & (df1['age'] <= 18)]\n",
        "df2_filtered = df2[(df2['age'] >= 14) & (df2['age'] <= 18)]"
      ]
    },
    {
      "cell_type": "code",
      "execution_count": 14,
      "metadata": {
        "colab": {
          "base_uri": "https://localhost:8080/"
        },
        "id": "724TfjRZPmQV",
        "outputId": "db021d8a-5d39-4733-9812-a0deb190362a"
      },
      "outputs": [
        {
          "name": "stdout",
          "output_type": "stream",
          "text": [
            "Rows in df1_filtered: 241\n",
            "Rows in df2_filtered: 2972\n"
          ]
        }
      ],
      "source": [
        "print(\"Rows in df1_filtered:\", df1_filtered.shape[0])\n",
        "print(\"Rows in df2_filtered:\", df2_filtered.shape[0])"
      ]
    },
    {
      "cell_type": "code",
      "execution_count": 39,
      "metadata": {
        "id": "LXe2c1ZktqlK"
      },
      "outputs": [],
      "source": []
    },
    {
      "cell_type": "code",
      "execution_count": 15,
      "metadata": {
        "colab": {
          "base_uri": "https://localhost:8080/"
        },
        "id": "-wdHvbfgtq1x",
        "outputId": "eed67e7d-9be6-4fb1-fb61-8f1d6f520881"
      },
      "outputs": [
        {
          "name": "stdout",
          "output_type": "stream",
          "text": [
            "First 5 rows Df1:\n",
            "     gender   age  height  weight family_history_with_overweight favc  fcvc  \\\n",
            "58   Female  17.0    1.65    67.0                            yes  yes   3.0   \n",
            "112  Female  18.0    1.56    51.0                            yes  yes   2.0   \n",
            "115  Female  17.0    1.75    57.0                            yes  yes   3.0   \n",
            "116  Female  15.0    1.65    86.0                            yes  yes   3.0   \n",
            "117  Female  17.0    1.70    85.0                            yes   no   2.0   \n",
            "\n",
            "     ncp        caec smoke  ch2o scc  faf  tue       calc  \\\n",
            "58   1.0   Sometimes    no   2.0  no  1.0  1.0         no   \n",
            "112  4.0  Frequently    no   2.0  no  1.0  0.0  Sometimes   \n",
            "115  3.0  Frequently    no   2.0  no  0.0  1.0         no   \n",
            "116  3.0   Sometimes    no   1.0  no  3.0  2.0         no   \n",
            "117  3.0  Frequently    no   2.0  no  1.0  1.0         no   \n",
            "\n",
            "                    mtrans           nobeyesdad  \n",
            "58                 Walking        Normal_Weight  \n",
            "112  Public_Transportation        Normal_Weight  \n",
            "115  Public_Transportation        Normal_Weight  \n",
            "116                Walking       Obesity_Type_I  \n",
            "117  Public_Transportation  Overweight_Level_II  \n",
            "First 5 rows Df2:\n",
            "    id  gender   age    height      weight  family_history_with_overweight  \\\n",
            "1    1  Female  18.0  1.560000   57.000000                               1   \n",
            "2    2  Female  18.0  1.711460   50.165754                               1   \n",
            "8    8    Male  17.0  1.700000   70.000000                               0   \n",
            "12  12    Male  18.0  1.811189  108.251044                               1   \n",
            "17  17  Female  18.0  1.560000   50.000000                               0   \n",
            "\n",
            "    favc      fcvc       ncp        caec  smoke      ch2o  scc       faf  \\\n",
            "1      1  2.000000  3.000000  Frequently      0  2.000000    0  1.000000   \n",
            "2      1  1.880534  1.411685   Sometimes      0  1.910378    0  0.866045   \n",
            "8      1  2.000000  3.000000   Sometimes      0  3.000000    1  1.000000   \n",
            "12     1  2.000000  2.164839   Sometimes      0  2.530157    0  1.000000   \n",
            "17     1  3.000000  3.000000   Sometimes      0  1.000000    0  1.000000   \n",
            "\n",
            "         tue       calc                 mtrans              0be1dad  \n",
            "1   1.000000          0             Automobile         0rmal_Weight  \n",
            "2   1.673584          0  Public_Transportation  Insufficient_Weight  \n",
            "8   1.000000          0  Public_Transportation   Overweight_Level_I  \n",
            "12  0.553311          0  Public_Transportation       Obesity_Type_I  \n",
            "17  0.000000  Sometimes  Public_Transportation         0rmal_Weight  \n"
          ]
        }
      ],
      "source": [
        "print(\"First 5 rows Df1:\")\n",
        "print(df1_filtered.head())\n",
        "print(\"First 5 rows Df2:\")\n",
        "print(df2_filtered.head())"
      ]
    },
    {
      "cell_type": "markdown",
      "metadata": {
        "id": "2NFhxW-XuP6-"
      },
      "source": []
    },
    {
      "cell_type": "code",
      "execution_count": 16,
      "metadata": {
        "colab": {
          "base_uri": "https://localhost:8080/"
        },
        "id": "fbngCBSrzjHa",
        "outputId": "bb756e6b-a807-4395-e902-06b7f677ba25"
      },
      "outputs": [
        {
          "name": "stdout",
          "output_type": "stream",
          "text": [
            "df1 Gender options: ['Female', 'Male']\n",
            "df2 Gender options: ['Female', 'Male']\n",
            "df1 family_history_with_overweight options: ['no', 'yes']\n",
            "df2 family_history_with_overweight options: [np.int64(0), np.int64(1)]\n",
            "df1 Favc options: ['no', 'yes']\n",
            "df2 Favc options: [np.int64(0), np.int64(1)]\n",
            "df1 Caec options: ['Always', 'Frequently', 'Sometimes']\n",
            "df2 Caec options: ['0', 'Always', 'Frequently', 'Sometimes']\n",
            "df1 smoke options: ['no', 'yes']\n",
            "df2 smoke options: [np.int64(0), np.int64(1)]\n",
            "df1 scc options: ['no', 'yes']\n",
            "df2 scc options: [np.int64(0), np.int64(1)]\n",
            "df1 calc options: ['Frequently', 'Sometimes', 'no']\n",
            "df2 calc options: ['0', 'Frequently', 'Sometimes']\n",
            "df1 mtrans options: ['Automobile', 'Public_Transportation', 'Walking']\n",
            "df2 mtrans options: ['Automobile', 'Bike', 'Motorbike', 'Public_Transportation', 'Walking']\n",
            "df1 obesity level options: ['Insufficient_Weight', 'Normal_Weight', 'Obesity_Type_I', 'Obesity_Type_III', 'Overweight_Level_I', 'Overweight_Level_II']\n",
            "df2 obestiy level options: ['0rmal_Weight', 'Insufficient_Weight', 'Obesity_Type_I', 'Obesity_Type_II', 'Obesity_Type_III', 'Overweight_Level_I', 'Overweight_Level_II']\n"
          ]
        }
      ],
      "source": [
        "print(\"df1 Gender options:\", sorted(df1_filtered['gender'].dropna().unique()))\n",
        "print(\"df2 Gender options:\", sorted(df2_filtered['gender'].dropna().unique()))\n",
        "print(\"df1 family_history_with_overweight options:\", sorted(df1_filtered['family_history_with_overweight'].dropna().unique()))\n",
        "print(\"df2 family_history_with_overweight options:\", sorted(df2_filtered['family_history_with_overweight'].dropna().unique()))\n",
        "print(\"df1 Favc options:\", sorted(df1_filtered['favc'].dropna().unique()))\n",
        "print(\"df2 Favc options:\", sorted(df2_filtered['favc'].dropna().unique()))\n",
        "print(\"df1 Caec options:\", sorted(df1_filtered['caec'].dropna().unique()))\n",
        "print(\"df2 Caec options:\", sorted(df2_filtered['caec'].dropna().unique()))\n",
        "print(\"df1 smoke options:\", sorted(df1_filtered['smoke'].dropna().unique()))\n",
        "print(\"df2 smoke options:\", sorted(df2_filtered['smoke'].dropna().unique()))\n",
        "print(\"df1 scc options:\", sorted(df1_filtered['scc'].dropna().unique()))\n",
        "print(\"df2 scc options:\", sorted(df2_filtered['scc'].dropna().unique()))\n",
        "print(\"df1 calc options:\", sorted(df1_filtered['calc'].dropna().unique()))\n",
        "print(\"df2 calc options:\", sorted(df2_filtered['calc'].dropna().unique()))\n",
        "print(\"df1 mtrans options:\", sorted(df1_filtered['mtrans'].dropna().unique()))\n",
        "print(\"df2 mtrans options:\", sorted(df2_filtered['mtrans'].dropna().unique()))\n",
        "print(\"df1 obesity level options:\", sorted(df1_filtered['nobeyesdad'].dropna().unique()))\n",
        "print(\"df2 obestiy level options:\", sorted(df2_filtered['0be1dad'].dropna().unique()))"
      ]
    },
    {
      "cell_type": "code",
      "execution_count": 42,
      "metadata": {
        "id": "z9ho6SAjzo--"
      },
      "outputs": [],
      "source": [
        "#family history - df1 no/yes to 0/1\n",
        "#favc -  df1 no/yes to 0/1\n",
        "#caec - df2 0 to \"never\"\n",
        "#smoke - df1 no/yes to 0/1\n",
        "#scc - df1 no/yes to 0/1\n",
        "#calc - df2 0 to \"no\"\n",
        "#mtrans - can combine\n",
        "#obesity - df2 0ormal_Weight to \"Normal_Weight\""
      ]
    },
    {
      "cell_type": "code",
      "execution_count": 17,
      "metadata": {
        "colab": {
          "base_uri": "https://localhost:8080/"
        },
        "id": "l8ke3yw6ss18",
        "outputId": "1e04b973-a026-4d7f-fd1b-41fb5c4d16d6"
      },
      "outputs": [
        {
          "name": "stderr",
          "output_type": "stream",
          "text": [
            "C:\\Users\\user\\AppData\\Local\\Temp\\ipykernel_14828\\4117563716.py:5: FutureWarning: Downcasting behavior in `replace` is deprecated and will be removed in a future version. To retain the old behavior, explicitly call `result.infer_objects(copy=False)`. To opt-in to the future behavior, set `pd.set_option('future.no_silent_downcasting', True)`\n",
            "  df1_filtered[col] = df1_filtered[col].replace({\"no\": 0, \"yes\": 1})\n",
            "C:\\Users\\user\\AppData\\Local\\Temp\\ipykernel_14828\\4117563716.py:5: SettingWithCopyWarning: \n",
            "A value is trying to be set on a copy of a slice from a DataFrame.\n",
            "Try using .loc[row_indexer,col_indexer] = value instead\n",
            "\n",
            "See the caveats in the documentation: https://pandas.pydata.org/pandas-docs/stable/user_guide/indexing.html#returning-a-view-versus-a-copy\n",
            "  df1_filtered[col] = df1_filtered[col].replace({\"no\": 0, \"yes\": 1})\n",
            "C:\\Users\\user\\AppData\\Local\\Temp\\ipykernel_14828\\4117563716.py:10: SettingWithCopyWarning: \n",
            "A value is trying to be set on a copy of a slice from a DataFrame.\n",
            "Try using .loc[row_indexer,col_indexer] = value instead\n",
            "\n",
            "See the caveats in the documentation: https://pandas.pydata.org/pandas-docs/stable/user_guide/indexing.html#returning-a-view-versus-a-copy\n",
            "  df2_filtered[\"caec\"] = df2_filtered[\"caec\"].replace({0: \"never\"})\n",
            "C:\\Users\\user\\AppData\\Local\\Temp\\ipykernel_14828\\4117563716.py:14: SettingWithCopyWarning: \n",
            "A value is trying to be set on a copy of a slice from a DataFrame.\n",
            "Try using .loc[row_indexer,col_indexer] = value instead\n",
            "\n",
            "See the caveats in the documentation: https://pandas.pydata.org/pandas-docs/stable/user_guide/indexing.html#returning-a-view-versus-a-copy\n",
            "  df2_filtered[\"calc\"] = df2_filtered[\"calc\"].replace({0: \"no\"})\n",
            "C:\\Users\\user\\AppData\\Local\\Temp\\ipykernel_14828\\4117563716.py:18: SettingWithCopyWarning: \n",
            "A value is trying to be set on a copy of a slice from a DataFrame.\n",
            "Try using .loc[row_indexer,col_indexer] = value instead\n",
            "\n",
            "See the caveats in the documentation: https://pandas.pydata.org/pandas-docs/stable/user_guide/indexing.html#returning-a-view-versus-a-copy\n",
            "  df2_filtered[\"0be1dad\"] = df2_filtered[\"0be1dad\"].replace({\"0rmal_Weight\": \"Normal_Weight\"})\n"
          ]
        }
      ],
      "source": [
        "# --- df1_filtered changes ---\n",
        "# Family history, FAVC, Smoke, SCC: convert \"no\"/\"yes\" -> 0/1\n",
        "for col in [\"family_history_with_overweight\", \"favc\", \"smoke\", \"scc\"]:\n",
        "    if col in df1_filtered.columns:\n",
        "        df1_filtered[col] = df1_filtered[col].replace({\"no\": 0, \"yes\": 1})\n",
        "\n",
        "# --- df2_filtered changes ---\n",
        "# CAEC: 0 -> \"never\"\n",
        "if \"caec\" in df2_filtered.columns:\n",
        "    df2_filtered[\"caec\"] = df2_filtered[\"caec\"].replace({0: \"never\"})\n",
        "\n",
        "# Calc: 0 -> \"no\"\n",
        "if \"calc\" in df2_filtered.columns:\n",
        "    df2_filtered[\"calc\"] = df2_filtered[\"calc\"].replace({0: \"no\"})\n",
        "\n",
        "# Obesity: fix typo \"0ormal_Weight\" -> \"Normal_Weight\"\n",
        "if \"0be1dad\" in df2_filtered.columns:\n",
        "    df2_filtered[\"0be1dad\"] = df2_filtered[\"0be1dad\"].replace({\"0rmal_Weight\": \"Normal_Weight\"})\n"
      ]
    },
    {
      "cell_type": "code",
      "execution_count": 18,
      "metadata": {
        "colab": {
          "base_uri": "https://localhost:8080/"
        },
        "id": "xrY5yX6As1Eu",
        "outputId": "8a3b0677-bff1-4632-b170-f1b881d87a3d"
      },
      "outputs": [
        {
          "name": "stdout",
          "output_type": "stream",
          "text": [
            "df1 family history: [1 0]\n",
            "df1 favc: [1 0]\n",
            "df1 smoke: [0 1]\n",
            "df1 scc: [0 1]\n",
            "\n",
            "df2 caec: ['Frequently' 'Sometimes' 'Always' '0']\n",
            "df2 calc: ['0' 'Sometimes' 'Frequently']\n",
            "df2 obesity: ['Normal_Weight' 'Insufficient_Weight' 'Overweight_Level_I'\n",
            " 'Obesity_Type_I' 'Overweight_Level_II' 'Obesity_Type_II'\n",
            " 'Obesity_Type_III']\n"
          ]
        }
      ],
      "source": [
        "print(\"df1 family history:\", df1_filtered[\"family_history_with_overweight\"].unique())\n",
        "print(\"df1 favc:\", df1_filtered[\"favc\"].unique())\n",
        "print(\"df1 smoke:\", df1_filtered[\"smoke\"].unique())\n",
        "print(\"df1 scc:\", df1_filtered[\"scc\"].unique())\n",
        "\n",
        "print(\"\\ndf2 caec:\", df2_filtered[\"caec\"].unique())\n",
        "print(\"df2 calc:\", df2_filtered[\"calc\"].unique())\n",
        "print(\"df2 obesity:\", df2_filtered[\"0be1dad\"].unique())"
      ]
    },
    {
      "cell_type": "code",
      "execution_count": 19,
      "metadata": {
        "colab": {
          "base_uri": "https://localhost:8080/"
        },
        "id": "TGHxwUMzufbR",
        "outputId": "32206a33-2c63-4780-89cf-d85b4b6c4955"
      },
      "outputs": [
        {
          "name": "stdout",
          "output_type": "stream",
          "text": [
            "df1 columns: ['gender', 'age', 'height', 'weight', 'family_history_with_overweight', 'favc', 'fcvc', 'ncp', 'caec', 'smoke', 'ch2o', 'scc', 'faf', 'tue', 'calc', 'mtrans', 'nobeyesdad']\n",
            "df2 columns: ['id', 'gender', 'age', 'height', 'weight', 'family_history_with_overweight', 'favc', 'fcvc', 'ncp', 'caec', 'smoke', 'ch2o', 'scc', 'faf', 'tue', 'calc', 'mtrans', '0be1dad']\n"
          ]
        }
      ],
      "source": [
        "print(\"df1 columns:\", list(df1_filtered.columns))\n",
        "print(\"df2 columns:\", list(df2_filtered.columns))\n"
      ]
    },
    {
      "cell_type": "code",
      "execution_count": 20,
      "metadata": {
        "colab": {
          "base_uri": "https://localhost:8080/"
        },
        "id": "hfD_ZnMku7hO",
        "outputId": "2d2e93f1-31cd-40d0-e86c-f289183fc015"
      },
      "outputs": [
        {
          "name": "stdout",
          "output_type": "stream",
          "text": [
            "Combined dataset shape: (3213, 17)\n",
            "Combined columns: ['gender', 'age', 'height', 'weight', 'family_history_with_overweight', 'favc', 'fcvc', 'ncp', 'caec', 'smoke', 'ch2o', 'scc', 'faf', 'tue', 'calc', 'mtrans', 'nobeyesdad']\n"
          ]
        }
      ],
      "source": [
        "# Step 1: Drop 'id' column\n",
        "if \"id\" in df2_filtered.columns:\n",
        "    df2_filtered = df2_filtered.drop(columns=[\"id\"])\n",
        "\n",
        "# Step 2: Rename '0be1dad' to 'nobeyesdad'\n",
        "df2_filtered = df2_filtered.rename(columns={\"0be1dad\": \"nobeyesdad\"})\n",
        "\n",
        "# Step 3 (optional): Ensure same column order as df1_filtered\n",
        "df2_filtered = df2_filtered[df1_filtered.columns]\n",
        "\n",
        "# Step 4: Combine\n",
        "import pandas as pd\n",
        "combined_df = pd.concat([df1_filtered, df2_filtered], ignore_index=True)\n",
        "\n",
        "print(\"Combined dataset shape:\", combined_df.shape)\n",
        "print(\"Combined columns:\", combined_df.columns.tolist())\n"
      ]
    },
    {
      "cell_type": "code",
      "execution_count": 21,
      "metadata": {
        "colab": {
          "base_uri": "https://localhost:8080/"
        },
        "id": "qo0TETLFna_X",
        "outputId": "39be0dd5-39a5-4701-d790-aa6c70633932"
      },
      "outputs": [
        {
          "name": "stdout",
          "output_type": "stream",
          "text": [
            "<class 'pandas.core.frame.DataFrame'>\n",
            "RangeIndex: 3213 entries, 0 to 3212\n",
            "Data columns (total 17 columns):\n",
            " #   Column                          Non-Null Count  Dtype  \n",
            "---  ------                          --------------  -----  \n",
            " 0   gender                          3213 non-null   object \n",
            " 1   age                             3213 non-null   float64\n",
            " 2   height                          3213 non-null   float64\n",
            " 3   weight                          3213 non-null   float64\n",
            " 4   family_history_with_overweight  3213 non-null   int64  \n",
            " 5   favc                            3213 non-null   int64  \n",
            " 6   fcvc                            3213 non-null   float64\n",
            " 7   ncp                             3213 non-null   float64\n",
            " 8   caec                            3213 non-null   object \n",
            " 9   smoke                           3213 non-null   int64  \n",
            " 10  ch2o                            3213 non-null   float64\n",
            " 11  scc                             3213 non-null   int64  \n",
            " 12  faf                             3213 non-null   float64\n",
            " 13  tue                             3213 non-null   float64\n",
            " 14  calc                            3213 non-null   object \n",
            " 15  mtrans                          3213 non-null   object \n",
            " 16  nobeyesdad                      3213 non-null   object \n",
            "dtypes: float64(8), int64(4), object(5)\n",
            "memory usage: 426.9+ KB\n"
          ]
        }
      ],
      "source": [
        "combined_df.info()"
      ]
    },
    {
      "cell_type": "code",
      "execution_count": 22,
      "metadata": {
        "colab": {
          "base_uri": "https://localhost:8080/"
        },
        "id": "w0f0jmphrUnL",
        "outputId": "84abef2b-e6d7-4c8a-f083-1e3ec1b913e7"
      },
      "outputs": [
        {
          "name": "stdout",
          "output_type": "stream",
          "text": [
            "Original shape: (3213, 17)\n",
            "Encoded features shape: (3213, 23)\n",
            "Target shape: (3213,)\n"
          ]
        }
      ],
      "source": [
        "#One-Hot Encoding\n",
        "categorical_cols = ['gender', 'caec', 'calc', 'mtrans']\n",
        "\n",
        "X = combined_df.drop(columns=['nobeyesdad'])\n",
        "y = combined_df['nobeyesdad']\n",
        "\n",
        "categorical_encoded = pd.get_dummies(X, columns=categorical_cols, drop_first=True)\n",
        "\n",
        "print(\"Original shape:\", combined_df.shape)\n",
        "print(\"Encoded features shape:\", categorical_encoded.shape)\n",
        "print(\"Target shape:\", y.shape)\n"
      ]
    },
    {
      "cell_type": "code",
      "execution_count": 23,
      "metadata": {
        "colab": {
          "base_uri": "https://localhost:8080/"
        },
        "id": "OeUCF3NYr1PP",
        "outputId": "065daf47-b796-4473-911c-b5ce5856fe19"
      },
      "outputs": [
        {
          "name": "stdout",
          "output_type": "stream",
          "text": [
            "{'Insufficient_Weight': np.int64(0), 'Normal_Weight': np.int64(1), 'Obesity_Type_I': np.int64(2), 'Obesity_Type_II': np.int64(3), 'Obesity_Type_III': np.int64(4), 'Overweight_Level_I': np.int64(5), 'Overweight_Level_II': np.int64(6)}\n"
          ]
        }
      ],
      "source": [
        "#Encoding Target Variable\n",
        "\n",
        "from sklearn.preprocessing import LabelEncoder\n",
        "\n",
        "le = LabelEncoder()\n",
        "y_encoded = le.fit_transform(y)\n",
        "\n",
        "# Check?\n",
        "print(dict(zip(le.classes_, le.transform(le.classes_))))\n"
      ]
    },
    {
      "cell_type": "code",
      "execution_count": 24,
      "metadata": {
        "id": "zIZmYN92tQ5p"
      },
      "outputs": [
        {
          "ename": "NameError",
          "evalue": "name 'X_encoded' is not defined",
          "output_type": "error",
          "traceback": [
            "\u001b[31m---------------------------------------------------------------------------\u001b[39m",
            "\u001b[31mNameError\u001b[39m                                 Traceback (most recent call last)",
            "\u001b[36mCell\u001b[39m\u001b[36m \u001b[39m\u001b[32mIn[24]\u001b[39m\u001b[32m, line 1\u001b[39m\n\u001b[32m----> \u001b[39m\u001b[32m1\u001b[39m final_df = \u001b[43mX_encoded\u001b[49m.copy()\n\u001b[32m      2\u001b[39m final_df[\u001b[33m'\u001b[39m\u001b[33mnobeyesdad\u001b[39m\u001b[33m'\u001b[39m] = y_encoded\n\u001b[32m      4\u001b[39m \u001b[38;5;28mprint\u001b[39m(final_df.head())\n",
            "\u001b[31mNameError\u001b[39m: name 'X_encoded' is not defined"
          ]
        }
      ],
      "source": [
        "final_df = X_encoded.copy()\n",
        "final_df['nobeyesdad'] = y_encoded\n",
        "\n",
        "print(final_df.head())\n",
        "print(\"Final dataset shape:\", final_df.shape)\n",
        "\n",
        "#categorical_encoded"
      ]
    },
    {
      "cell_type": "code",
      "execution_count": 25,
      "metadata": {
        "colab": {
          "base_uri": "https://localhost:8080/"
        },
        "id": "dDt_nSB8th8T",
        "outputId": "c0ede394-f4a8-47ff-f641-853be976d91e"
      },
      "outputs": [
        {
          "name": "stdout",
          "output_type": "stream",
          "text": [
            "    age  height  weight  family_history_with_overweight  favc  fcvc  ncp  \\\n",
            "0  17.0    1.65    67.0                               1     1   3.0  1.0   \n",
            "1  18.0    1.56    51.0                               1     1   2.0  4.0   \n",
            "2  17.0    1.75    57.0                               1     1   3.0  3.0   \n",
            "3  15.0    1.65    86.0                               1     1   3.0  3.0   \n",
            "4  17.0    1.70    85.0                               1     0   2.0  3.0   \n",
            "\n",
            "   smoke  ch2o  scc  ...  caec_Frequently  caec_Sometimes  calc_Frequently  \\\n",
            "0      0   2.0    0  ...            False            True            False   \n",
            "1      0   2.0    0  ...             True           False            False   \n",
            "2      0   2.0    0  ...             True           False            False   \n",
            "3      0   1.0    0  ...            False            True            False   \n",
            "4      0   2.0    0  ...             True           False            False   \n",
            "\n",
            "   calc_Sometimes  calc_no  mtrans_Bike  mtrans_Motorbike  \\\n",
            "0           False     True        False             False   \n",
            "1            True    False        False             False   \n",
            "2           False     True        False             False   \n",
            "3           False     True        False             False   \n",
            "4           False     True        False             False   \n",
            "\n",
            "   mtrans_Public_Transportation  mtrans_Walking  nobeyesdad  \n",
            "0                         False            True           1  \n",
            "1                          True           False           1  \n",
            "2                          True           False           1  \n",
            "3                         False            True           2  \n",
            "4                          True           False           6  \n",
            "\n",
            "[5 rows x 24 columns]\n",
            "Final dataset shape: (3213, 24)\n"
          ]
        }
      ],
      "source": [
        "final_df = categorical_encoded.copy()\n",
        "final_df['nobeyesdad'] = y_encoded\n",
        "\n",
        "print(final_df.head())\n",
        "print(\"Final dataset shape:\", final_df.shape)\n"
      ]
    },
    {
      "cell_type": "code",
      "execution_count": 26,
      "metadata": {
        "colab": {
          "base_uri": "https://localhost:8080/"
        },
        "id": "m1BUP8DxvWr8",
        "outputId": "a6158bef-3f2e-428f-99d5-f0cfb7598202"
      },
      "outputs": [
        {
          "name": "stdout",
          "output_type": "stream",
          "text": [
            "Dataset exported as combined_dataset.csv\n"
          ]
        }
      ],
      "source": [
        "final_df.to_csv(\"Final_combined_dataset.csv\", index=False)\n",
        "\n",
        "print(\"Dataset exported as combined_dataset.csv\")\n"
      ]
    },
    {
      "cell_type": "code",
      "execution_count": 27,
      "metadata": {
        "colab": {
          "base_uri": "https://localhost:8080/"
        },
        "id": "L5dkNDQ6vuGp",
        "outputId": "9bb1c53e-a46c-4189-c121-84a2a9109fee"
      },
      "outputs": [
        {
          "name": "stdout",
          "output_type": "stream",
          "text": [
            "First 5 rows:\n",
            "    age  height  weight  family_history_with_overweight  favc  fcvc  ncp  \\\n",
            "0  17.0    1.65    67.0                               1     1   3.0  1.0   \n",
            "1  18.0    1.56    51.0                               1     1   2.0  4.0   \n",
            "2  17.0    1.75    57.0                               1     1   3.0  3.0   \n",
            "3  15.0    1.65    86.0                               1     1   3.0  3.0   \n",
            "4  17.0    1.70    85.0                               1     0   2.0  3.0   \n",
            "\n",
            "   smoke  ch2o  scc  ...  caec_Frequently  caec_Sometimes  calc_Frequently  \\\n",
            "0      0   2.0    0  ...            False            True            False   \n",
            "1      0   2.0    0  ...             True           False            False   \n",
            "2      0   2.0    0  ...             True           False            False   \n",
            "3      0   1.0    0  ...            False            True            False   \n",
            "4      0   2.0    0  ...             True           False            False   \n",
            "\n",
            "   calc_Sometimes  calc_no  mtrans_Bike  mtrans_Motorbike  \\\n",
            "0           False     True        False             False   \n",
            "1            True    False        False             False   \n",
            "2           False     True        False             False   \n",
            "3           False     True        False             False   \n",
            "4           False     True        False             False   \n",
            "\n",
            "   mtrans_Public_Transportation  mtrans_Walking  nobeyesdad  \n",
            "0                         False            True           1  \n",
            "1                          True           False           1  \n",
            "2                          True           False           1  \n",
            "3                         False            True           2  \n",
            "4                          True           False           6  \n",
            "\n",
            "[5 rows x 24 columns]\n"
          ]
        }
      ],
      "source": [
        "print(\"First 5 rows:\")\n",
        "print(final_df.head())"
      ]
    }
  ],
  "metadata": {
    "colab": {
      "provenance": []
    },
    "kernelspec": {
      "display_name": "base",
      "language": "python",
      "name": "python3"
    },
    "language_info": {
      "codemirror_mode": {
        "name": "ipython",
        "version": 3
      },
      "file_extension": ".py",
      "mimetype": "text/x-python",
      "name": "python",
      "nbconvert_exporter": "python",
      "pygments_lexer": "ipython3",
      "version": "3.13.5"
    }
  },
  "nbformat": 4,
  "nbformat_minor": 0
}
